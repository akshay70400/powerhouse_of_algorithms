{
 "cells": [
  {
   "cell_type": "markdown",
   "id": "f0d63196-4894-412b-a9fa-9c92999feb96",
   "metadata": {},
   "source": [
    "When selecting a suitable metric, we have to ask ourselves a three key questions:\n",
    "\n",
    "what kind of data do we analyze?\n",
    "do we need a percentage error metric?\n",
    "is overestimation or underestimation more critical?"
   ]
  },
  {
   "cell_type": "code",
   "execution_count": null,
   "id": "86a12412-8b06-4de4-97f2-55027ab0404a",
   "metadata": {},
   "outputs": [],
   "source": []
  },
  {
   "cell_type": "markdown",
   "id": "7f63b9b3-061b-483a-af6f-5847212a1419",
   "metadata": {},
   "source": [
    "# <mark> MAE"
   ]
  },
  {
   "cell_type": "markdown",
   "id": "959fe4bd-ce28-406d-b491-f8ab4c2ebd2f",
   "metadata": {},
   "source": []
  },
  {
   "cell_type": "markdown",
   "id": "02d96f12-4b0e-4ef0-b1ab-820280f197c7",
   "metadata": {},
   "source": []
  },
  {
   "cell_type": "markdown",
   "id": "ddccd081-1950-4283-84e4-2d3f35397e49",
   "metadata": {},
   "source": [
    "# <mark> MSE"
   ]
  },
  {
   "cell_type": "markdown",
   "id": "8aa154b4-8fd5-4207-bc4f-ff683a4027b6",
   "metadata": {},
   "source": []
  },
  {
   "cell_type": "markdown",
   "id": "a56a46c5-d9fd-47a1-b3c3-aaef763f531c",
   "metadata": {},
   "source": []
  },
  {
   "cell_type": "markdown",
   "id": "e4a3cd79-e4f5-4c02-8920-2fd52ccf7a29",
   "metadata": {},
   "source": [
    "# <mark> RMSE"
   ]
  },
  {
   "cell_type": "markdown",
   "id": "e79a5d8a-fccc-40c8-88e4-b0109f989140",
   "metadata": {},
   "source": []
  },
  {
   "cell_type": "markdown",
   "id": "ce8ff0e8-256f-4590-a050-371b56785bba",
   "metadata": {},
   "source": []
  },
  {
   "cell_type": "markdown",
   "id": "b84f706b-b173-4fc1-a8f6-de20c242af53",
   "metadata": {},
   "source": [
    "# <mark> R2"
   ]
  },
  {
   "cell_type": "markdown",
   "id": "04518806-7d7a-4d6b-b54e-624ab8a4716d",
   "metadata": {},
   "source": []
  },
  {
   "cell_type": "markdown",
   "id": "7817ee26-ee15-4d52-9d3e-9d0329daaa11",
   "metadata": {},
   "source": [
    "Problems with R2 that are corrected with an adjusted R2\n",
    "\n",
    "    R2 increases with every predictor added to a model. As R2 always increases and never decreases, it can appear to be a better fit with the more terms you add to the model. This can be completely misleading.\n",
    "    Similarly, if your model has too many terms and too many high-order polynomials you can run into the problem of over-fitting the data. When you over-fit data, a misleadingly high R2 value can lead to misleading projections.\n",
    "    R2 tends to reward you for including too many independent variables in a regression model, and it doesn’t provide any incentive to stop adding more. Adjusted R-squared and predicted R-squared use different approaches to help you fight that impulse to add too many.\n",
    "    The protection that adjusted R-squared and predicted R-squared provide is critical because too many terms in a model can produce results that you can’t trust. These statistics help you include the correct number of independent variables in your regression model.\n",
    "    \n",
    "    Problem 1: ALWAYS INCREASING WHEN YOU ADD NEW FEATURES\n",
    "    R-squared increases every time you add an independent variable to the model. The R-squared never decreases, not even when it’s just a chance correlation between variables. A regression model that contains more independent variables than another model can look like it provides a better fit merely because it contains more variables.\n",
    "    Problem 2: TENDS TO OVERFIT, FAILS TO GENERALIZE WELL\n",
    "    When a model contains an excessive number of independent variables and polynomial terms, it becomes overly customized to fit the peculiarities and random noise in your sample rather than reflecting the entire population. Statisticians call this overfitting the model, and it produces deceptively high R-squared values and a decreased capability for precise predictions."
   ]
  },
  {
   "cell_type": "markdown",
   "id": "280d3f9f-7b84-4fd7-b670-224bbe8e62e3",
   "metadata": {},
   "source": [
    "# <mark> Adjusted R2"
   ]
  },
  {
   "cell_type": "markdown",
   "id": "157d4dd3-86ed-42a8-b0e8-ef6891757216",
   "metadata": {},
   "source": [
    "Adjusted R2 is a special form of R2.\n",
    "R2 shows how well terms (data points) fit a curve or line. Adjusted R2 also indicates how well terms fit a curve or line, but adjusts for the number of terms in a model. If you add more and more useless variables to a model, adjusted r-squared will decrease. If you add more useful variables, adjusted r-squared will increase.\n",
    "Adjusted R2 will always be less than or equal to R2."
   ]
  },
  {
   "attachments": {
    "04365bd1-2253-483c-bf5f-8aa1be3aea48.png": {
     "image/png": "[encoded data removed]"
    }
   },
   "cell_type": "markdown",
   "id": "f438d64f-69c3-497f-84ff-ad12cf77ce4c",
   "metadata": {},
   "source": [
    "The formula is:\n",
    "![image.png](attachment:04365bd1-2253-483c-bf5f-8aa1be3aea48.png)\n",
    "\n",
    "where:\n",
    "\n",
    "    N is the number of points in your data sample.\n",
    "    K is the number of independent regressors, i.e. the number of variables in your model, excluding the constant."
   ]
  },
  {
   "cell_type": "markdown",
   "id": "e12bb0e0-73bd-475a-a62f-d2ebee02722e",
   "metadata": {},
   "source": [
    "Both R2 and the adjusted R2 give you an idea of how many data points fall within the line of the regression equation. However, there is one main difference between R2 and the adjusted R2: R2 assumes that every single variable explains the variation in the dependent variable. The adjusted R2 tells you **the percentage of variation explained by only the independent variables that actually affect the dependent variable.**"
   ]
  },
  {
   "attachments": {
    "357a34b4-58b8-431d-a8bd-bbc6ddf0ac18.png": {
     "image/png": "[encoded data removed]"
    }
   },
   "cell_type": "markdown",
   "id": "f6a25fe3-d37f-46f2-9fdb-36d429a204b4",
   "metadata": {},
   "source": [
    "Let’s say you are comparing a model with five independent variables to a model with one variable and the five variable model has a higher R-squared. Is the model with five variables actually a better model, or does it just have more variables? To determine this, just compare the adjusted R-squared values!\n",
    "\n",
    "The adjusted R-squared adjusts for the number of terms in the model. Importantly, its value increases only when the new term improves the model fit more than expected by chance alone. The adjusted R-squared value actually decreases when the term doesn’t improve the model fit by a sufficient amount.\n",
    "\n",
    "The example below shows how the adjusted R-squared increases up to a point and then decreases. On the other hand, R-squared blithely increases with each and every additional independent variable.\n",
    "\n",
    "![image.png](attachment:357a34b4-58b8-431d-a8bd-bbc6ddf0ac18.png)\n",
    "\n",
    "In this example, the researchers might want to include only three independent variables in their regression model. My R-squared blog post shows how an under-specified model (too few terms) can produce biased estimates. However, an overspecified model (too many terms) can reduce the model’s precision. In other words, both the coefficient estimates and predicted values can have larger margins of error around them. That’s why you don’t want to include too many terms in the regression model!"
   ]
  },
  {
   "cell_type": "markdown",
   "id": "f3b91942-5475-4af4-8839-711c250d2855",
   "metadata": {},
   "source": []
  },
  {
   "cell_type": "markdown",
   "id": "499c14eb-4dc2-47cc-8e0f-e6081046af98",
   "metadata": {},
   "source": []
  },
  {
   "cell_type": "markdown",
   "id": "4dba25df-c6ec-431b-b363-fabd9df545cd",
   "metadata": {},
   "source": []
  },
  {
   "cell_type": "markdown",
   "id": "35bac618-513f-4460-a9d4-b8478545a9e3",
   "metadata": {},
   "source": []
  },
  {
   "cell_type": "markdown",
   "id": "740b9719-1e94-4d56-9902-684fbd634ff8",
   "metadata": {},
   "source": [
    "# <mark> Predicted R2"
   ]
  },
  {
   "cell_type": "markdown",
   "id": "ea44e770-04ed-46c9-9bce-02ef6947e576",
   "metadata": {},
   "source": [
    "Use predicted R-squared to determine how well a regression model makes predictions. This statistic helps you identify cases where the model provides a good fit for the existing data but isn’t as good at making predictions. However, even if you aren’t using your model to make predictions, predicted R-squared still offers valuable insights about your model.\n",
    "\n",
    "Statistical software calculates predicted R-squared using the following procedure:\n",
    "\n",
    "    It removes a data point from the dataset.\n",
    "    Calculates the regression equation.\n",
    "    Evaluates how well the model predicts the missing observation.\n",
    "    And repeats this for all data points in the dataset.\n",
    "\n",
    "Predicted R-squared helps you determine whether you are overfitting a regression model. Again, an overfit model includes an excessive number of terms, and it begins to fit the random noise in your sample.\n",
    "\n",
    "By its very definition, it is not possible to predict random noise. Consequently, if your model fits a lot of random noise, the predicted R-squared value must fall. A predicted R-squared that is distinctly smaller than R-squared is a warning sign that you are overfitting the model. Try reducing the number of terms(features)."
   ]
  },
  {
   "cell_type": "markdown",
   "id": "dc34c511-60e1-4215-bee4-8ac8d3b38f56",
   "metadata": {},
   "source": []
  },
  {
   "cell_type": "markdown",
   "id": "236a32b9-f131-4df2-9cb6-a46240d8f2cb",
   "metadata": {},
   "source": [
    "All study areas involve a certain amount of variability that you can’t explain. If you chase a high R-squared by including an excessive number of variables, you force the model to explain the unexplainable. This is not good. While this approach can obtain higher R-squared values, it comes at the cost of misleading regression coefficients, p-values, R-squared, and imprecise predictions.\n",
    "\n",
    "Adjusted R-squared and predicted R-square help you resist the urge to add too many independent variables to your model.\n",
    "\n",
    "Adjusted R-square compares models with different numbers of variables.\n",
    "Predicted R-square can guard against models that are too complicated."
   ]
  },
  {
   "cell_type": "markdown",
   "id": "65aed9be-e596-4fe9-87bb-c3da67e99947",
   "metadata": {},
   "source": []
  },
  {
   "cell_type": "markdown",
   "id": "09210455-7b65-435e-a582-093c0ae89039",
   "metadata": {},
   "source": [
    "# <mark> Regression Vs. Correlation\n",
    "    \n",
    "|Property|Correlation|Regression|\n",
    "|:------:|:---------:|:--------:|\n",
    "|When to use|When summarizing the direct relationship between two variables|To predict or explain the numeric response|\n",
    "Able to quantify the direction of the relationship?|Yes|Yes\n",
    "Able to quantify the strength of the relationship?|Yes|Yes\n",
    "Able to show cause and effect?|No|Yes\n",
    "Able to predict and optimize?|No|Yes\n",
    "X and Y are interchangeable?|Yes|No"
   ]
  }
 ],
 "metadata": {
  "kernelspec": {
   "display_name": "Python 3 (ipykernel)",
   "language": "python",
   "name": "python3"
  },
  "language_info": {
   "codemirror_mode": {
    "name": "ipython",
    "version": 3
   },
   "file_extension": ".py",
   "mimetype": "text/x-python",
   "name": "python",
   "nbconvert_exporter": "python",
   "pygments_lexer": "ipython3",
   "version": "3.11.4"
  }
 },
 "nbformat": 4,
 "nbformat_minor": 5
}
