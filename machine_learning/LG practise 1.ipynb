{
 "cells": [
  {
   "cell_type": "code",
   "execution_count": 1,
   "metadata": {},
   "outputs": [],
   "source": [
    "import flask"
   ]
  },
  {
   "cell_type": "code",
   "execution_count": 1,
   "metadata": {},
   "outputs": [],
   "source": [
    "import pandas as pd\n",
    "import numpy as np\n",
    "import matplotlib.pyplot as plt\n",
    "from sklearn.model_selection import train_test_split\n",
    "from sklearn.linear_model import LinearRegression\n",
    "from sklearn.metrics import mean_squared_error,r2_score"
   ]
  },
  {
   "cell_type": "code",
   "execution_count": 2,
   "metadata": {},
   "outputs": [
    {
     "data": {
      "text/html": [
       "<div>\n",
       "<style scoped>\n",
       "    .dataframe tbody tr th:only-of-type {\n",
       "        vertical-align: middle;\n",
       "    }\n",
       "\n",
       "    .dataframe tbody tr th {\n",
       "        vertical-align: top;\n",
       "    }\n",
       "\n",
       "    .dataframe thead th {\n",
       "        text-align: right;\n",
       "    }\n",
       "</style>\n",
       "<table border=\"1\" class=\"dataframe\">\n",
       "  <thead>\n",
       "    <tr style=\"text-align: right;\">\n",
       "      <th></th>\n",
       "      <th>consum</th>\n",
       "      <th>incom</th>\n",
       "      <th>price</th>\n",
       "      <th>produc</th>\n",
       "    </tr>\n",
       "  </thead>\n",
       "  <tbody>\n",
       "    <tr>\n",
       "      <th>0</th>\n",
       "      <td>890.45</td>\n",
       "      <td>908.21</td>\n",
       "      <td>3.66</td>\n",
       "      <td>1203.77</td>\n",
       "    </tr>\n",
       "    <tr>\n",
       "      <th>1</th>\n",
       "      <td>886.54</td>\n",
       "      <td>900.68</td>\n",
       "      <td>2.76</td>\n",
       "      <td>1200.36</td>\n",
       "    </tr>\n",
       "    <tr>\n",
       "      <th>2</th>\n",
       "      <td>886.33</td>\n",
       "      <td>899.80</td>\n",
       "      <td>2.52</td>\n",
       "      <td>1193.63</td>\n",
       "    </tr>\n",
       "    <tr>\n",
       "      <th>3</th>\n",
       "      <td>884.88</td>\n",
       "      <td>898.48</td>\n",
       "      <td>1.72</td>\n",
       "      <td>1193.04</td>\n",
       "    </tr>\n",
       "    <tr>\n",
       "      <th>4</th>\n",
       "      <td>885.25</td>\n",
       "      <td>895.78</td>\n",
       "      <td>0.97</td>\n",
       "      <td>1194.11</td>\n",
       "    </tr>\n",
       "    <tr>\n",
       "      <th>...</th>\n",
       "      <td>...</td>\n",
       "      <td>...</td>\n",
       "      <td>...</td>\n",
       "      <td>...</td>\n",
       "    </tr>\n",
       "    <tr>\n",
       "      <th>147</th>\n",
       "      <td>858.97</td>\n",
       "      <td>871.19</td>\n",
       "      <td>0.34</td>\n",
       "      <td>1181.05</td>\n",
       "    </tr>\n",
       "    <tr>\n",
       "      <th>148</th>\n",
       "      <td>863.31</td>\n",
       "      <td>878.91</td>\n",
       "      <td>0.94</td>\n",
       "      <td>1188.16</td>\n",
       "    </tr>\n",
       "    <tr>\n",
       "      <th>149</th>\n",
       "      <td>865.39</td>\n",
       "      <td>881.88</td>\n",
       "      <td>1.74</td>\n",
       "      <td>1184.74</td>\n",
       "    </tr>\n",
       "    <tr>\n",
       "      <th>150</th>\n",
       "      <td>862.02</td>\n",
       "      <td>876.64</td>\n",
       "      <td>1.98</td>\n",
       "      <td>1183.60</td>\n",
       "    </tr>\n",
       "    <tr>\n",
       "      <th>151</th>\n",
       "      <td>861.48</td>\n",
       "      <td>879.62</td>\n",
       "      <td>2.50</td>\n",
       "      <td>1181.11</td>\n",
       "    </tr>\n",
       "  </tbody>\n",
       "</table>\n",
       "<p>152 rows × 4 columns</p>\n",
       "</div>"
      ],
      "text/plain": [
       "     consum   incom  price   produc\n",
       "0    890.45  908.21   3.66  1203.77\n",
       "1    886.54  900.68   2.76  1200.36\n",
       "2    886.33  899.80   2.52  1193.63\n",
       "3    884.88  898.48   1.72  1193.04\n",
       "4    885.25  895.78   0.97  1194.11\n",
       "..      ...     ...    ...      ...\n",
       "147  858.97  871.19   0.34  1181.05\n",
       "148  863.31  878.91   0.94  1188.16\n",
       "149  865.39  881.88   1.74  1184.74\n",
       "150  862.02  876.64   1.98  1183.60\n",
       "151  861.48  879.62   2.50  1181.11\n",
       "\n",
       "[152 rows x 4 columns]"
      ]
     },
     "execution_count": 2,
     "metadata": {},
     "output_type": "execute_result"
    }
   ],
   "source": [
    "data = pd.read_csv(\"keynes.csv\")\n",
    "data"
   ]
  },
  {
   "cell_type": "code",
   "execution_count": 3,
   "metadata": {},
   "outputs": [],
   "source": [
    "x = data[[\"consum\"]]\n",
    "y = data[\"incom\"]\n",
    "\n",
    "# Divide the data into training and test data\n",
    "x_train, x_test, y_train, y_test = train_test_split(x,y,train_size = 0.8)"
   ]
  },
  {
   "cell_type": "code",
   "execution_count": 4,
   "metadata": {},
   "outputs": [
    {
     "name": "stdout",
     "output_type": "stream",
     "text": [
      "Coefficients :  [0.7519369]\n",
      "Mean Squared Error :  12.374685593187897\n",
      "R^2 value :  0.8991204382964663\n"
     ]
    },
    {
     "data": {
      "image/png": "[encoded data removed]",
      "text/plain": [
       "<Figure size 432x288 with 1 Axes>"
      ]
     },
     "metadata": {
      "needs_background": "light"
     },
     "output_type": "display_data"
    }
   ],
   "source": [
    "# Take an instance for creating a linear model \"lm\"\n",
    "lm = LinearRegression()\n",
    "lm.fit(x_train,y_train)\n",
    "\n",
    "prediction = lm.predict(x_test)\n",
    "# print(\"Predicted data : \",prediction[:5])\n",
    "# print(\"Actual Test data : \",y_test.head())\n",
    "\n",
    "print(\"Coefficients : \",lm.coef_)\n",
    "\n",
    "print(\"Mean Squared Error : \",mean_squared_error(y_test,prediction))\n",
    "print(\"R^2 value : \",r2_score(y_test,prediction))\n",
    "\n",
    "plt.scatter(x_test,y_test,color = \"green\")\n",
    "plt.plot(x_test,prediction,color = \"red\", linewidth = 0.3)\n",
    "plt.xticks()\n",
    "plt.yticks()\n",
    "plt.show()"
   ]
  },
  {
   "cell_type": "code",
   "execution_count": 5,
   "metadata": {},
   "outputs": [],
   "source": [
    "x = data[[\"consum\"]]\n",
    "y = data[\"price\"]\n",
    "# Divide the data into training and test data\n",
    "x_train, x_test, y_train, y_test = train_test_split(x,y,train_size = 0.8)"
   ]
  },
  {
   "cell_type": "code",
   "execution_count": 6,
   "metadata": {},
   "outputs": [
    {
     "name": "stdout",
     "output_type": "stream",
     "text": [
      "Coefficients :  [-0.0288151]\n",
      "Mean Squared Error :  1.6667807404495043\n",
      "R^2 value :  0.07305009713964528\n"
     ]
    },
    {
     "data": {
      "image/png": "[encoded data removed]",
      "text/plain": [
       "<Figure size 432x288 with 1 Axes>"
      ]
     },
     "metadata": {
      "needs_background": "light"
     },
     "output_type": "display_data"
    }
   ],
   "source": [
    "lm = LinearRegression()\n",
    "lm.fit(x_train,y_train)\n",
    "\n",
    "prediction = lm.predict(x_test)\n",
    "# print(\"Predicted data : \",prediction)\n",
    "# print(\"Actual Test data : \",y_test)\n",
    "\n",
    "print(\"Coefficients : \",lm.coef_)\n",
    "\n",
    "print(\"Mean Squared Error : \",mean_squared_error(y_test,prediction))\n",
    "print(\"R^2 value : \",r2_score(y_test,prediction))\n",
    "\n",
    "\n",
    "plt.scatter(x_test,y_test,color = \"green\")\n",
    "plt.plot(x_test,prediction,color = \"blue\", linewidth = 0.3)\n",
    "plt.xticks()\n",
    "plt.yticks()\n",
    "plt.show()"
   ]
  },
  {
   "cell_type": "code",
   "execution_count": 7,
   "metadata": {},
   "outputs": [],
   "source": [
    "x = data[[\"consum\"]]\n",
    "y = data[\"produc\"]\n",
    "# Divide the data into training and test data\n",
    "x_train, x_test, y_train, y_test = train_test_split(x,y,train_size = 0.8)"
   ]
  },
  {
   "cell_type": "code",
   "execution_count": 8,
   "metadata": {},
   "outputs": [
    {
     "name": "stdout",
     "output_type": "stream",
     "text": [
      "Coefficients :  [0.73089523]\n",
      "Mean Squared Error :  31.972564480256455\n",
      "R^2 value :  0.7635328064159861\n"
     ]
    },
    {
     "data": {
      "image/png": "[encoded data removed]",
      "text/plain": [
       "<Figure size 432x288 with 1 Axes>"
      ]
     },
     "metadata": {
      "needs_background": "light"
     },
     "output_type": "display_data"
    }
   ],
   "source": [
    "lm = LinearRegression()\n",
    "lm.fit(x_train,y_train)\n",
    "\n",
    "prediction = lm.predict(x_test)\n",
    "# print(\"Predicted data : \",prediction)\n",
    "# print(\"Actual Test data : \",y_test)\n",
    "\n",
    "print(\"Coefficients : \",lm.coef_)\n",
    "\n",
    "print(\"Mean Squared Error : \",mean_squared_error(y_test,prediction))\n",
    "print(\"R^2 value : \",r2_score(y_test,prediction))\n",
    "\n",
    "\n",
    "plt.scatter(x_test,y_test,color = \"green\")\n",
    "plt.plot(x_test,prediction,color = \"blue\", linewidth = 0.3)\n",
    "plt.xticks()\n",
    "plt.yticks()\n",
    "plt.show()"
   ]
  }
 ],
 "metadata": {
  "kernelspec": {
   "display_name": "Python 3",
   "language": "python",
   "name": "python3"
  },
  "language_info": {
   "codemirror_mode": {
    "name": "ipython",
    "version": 3
   },
   "file_extension": ".py",
   "mimetype": "text/x-python",
   "name": "python",
   "nbconvert_exporter": "python",
   "pygments_lexer": "ipython3",
   "version": "3.8.8"
  }
 },
 "nbformat": 4,
 "nbformat_minor": 4
}
