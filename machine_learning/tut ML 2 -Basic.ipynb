{
 "cells": [
  {
   "cell_type": "markdown",
   "id": "9021041a",
   "metadata": {},
   "source": [
    "## Machine Learning:\n",
    "AI: enables m/c to mimic intelligence, think and act like human brain, without human intervention\n",
    "\n",
    "ML: enables computer to learn without explicit programming. Its a subset of ML. It provides statistical tool to explore the data and understand it.\n",
    "\n",
    "Supervised:\n",
    "    \n",
    "    Task driven\n",
    "    well defined goals\n",
    "    we have past data and labeled\n",
    "    we can do predictions\n",
    "    output is known\n",
    "    ex. fit/notfit, fraud/not-fraud\n",
    "    types: regression, classification\n",
    "    \n",
    "Unsupervised:\n",
    "    \n",
    "    Data driven\n",
    "    output is not known\n",
    "    we dont have labeled data\n",
    "    we use cluster techniques(based on similarities we group)\n",
    "    Ex.DB-scan\n",
    "    \n",
    "Reinforcement(Semi-supervised):\n",
    "    \n",
    "    Learn from error/reward"
   ]
  },
  {
   "cell_type": "markdown",
   "id": "4a13b668",
   "metadata": {},
   "source": [
    "## Deep Learning\n",
    "    Subset of ML\n",
    "    Multi-neural network architecture\n",
    "    Idea is to mimic the brain\n",
    "    has several layers of neural network\n",
    "    Types:\n",
    "        ANN- artificial neural network()\n",
    "        CNN- convulation neural network(Images)\n",
    "        RNN- Recurrent neural network(Time series)"
   ]
  },
  {
   "cell_type": "markdown",
   "id": "61140ab9",
   "metadata": {},
   "source": [
    "## ML vs DL\n",
    "\n",
    "ML-Enables machine to take **DECISIONS** on thier own based on past data\n",
    "    \n",
    "    DL-Enables machine to take decision with the help of Artificial neural network\n",
    "    \n",
    "ML-Needs small amount of **DATA** for training\n",
    "    \n",
    "    DL-Needs large data for training\n",
    "    \n",
    "ML-Works well with low end **SYSTEMS**\n",
    "    \n",
    "    DL-need high end machine as lot of computational power is required\n",
    "    \n",
    "ML-most **FEATURES** need to be identified manually in advance or coded manually.\n",
    "    \n",
    "    DL-machine learns the features from the data by itself."
   ]
  },
  {
   "cell_type": "code",
   "execution_count": null,
   "id": "c56ab60e",
   "metadata": {},
   "outputs": [],
   "source": []
  },
  {
   "cell_type": "code",
   "execution_count": null,
   "id": "999e0e57",
   "metadata": {},
   "outputs": [],
   "source": []
  },
  {
   "cell_type": "code",
   "execution_count": null,
   "id": "40d7673a",
   "metadata": {},
   "outputs": [],
   "source": []
  },
  {
   "cell_type": "code",
   "execution_count": null,
   "id": "cc8a2d02",
   "metadata": {},
   "outputs": [],
   "source": []
  },
  {
   "cell_type": "code",
   "execution_count": null,
   "id": "ad337b1f",
   "metadata": {},
   "outputs": [],
   "source": []
  }
 ],
 "metadata": {
  "kernelspec": {
   "display_name": "Python 3",
   "language": "python",
   "name": "python3"
  },
  "language_info": {
   "codemirror_mode": {
    "name": "ipython",
    "version": 3
   },
   "file_extension": ".py",
   "mimetype": "text/x-python",
   "name": "python",
   "nbconvert_exporter": "python",
   "pygments_lexer": "ipython3",
   "version": "3.8.8"
  }
 },
 "nbformat": 4,
 "nbformat_minor": 5
}
