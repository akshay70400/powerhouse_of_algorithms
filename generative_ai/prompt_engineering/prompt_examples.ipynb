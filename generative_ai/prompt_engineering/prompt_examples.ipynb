{
 "cells": [
  {
   "cell_type": "code",
   "execution_count": 1,
   "id": "19b2da08-4f61-4438-9854-ecfbfe782ee4",
   "metadata": {
    "tags": []
   },
   "outputs": [],
   "source": [
    "import os\n",
    "import openai"
   ]
  },
  {
   "cell_type": "code",
   "execution_count": 2,
   "id": "51c31d9e-eee1-44c1-a29f-82869069c03c",
   "metadata": {
    "tags": []
   },
   "outputs": [],
   "source": [
    "openai.api_key = 'sk-'\n",
    "\n",
    "def get_completion(prompt, model=\"gpt-3.5-turbo\"): # Andrew mentioned that the prompt/ completion paradigm is preferable for this class\n",
    "    messages = [{\"role\": \"user\", \"content\": prompt}]\n",
    "    response = openai.ChatCompletion.create(\n",
    "        model=model,\n",
    "        messages=messages,\n",
    "        temperature=0, # this is the degree of randomness of the model's output\n",
    "    )\n",
    "    return response.choices[0].message[\"content\"]"
   ]
  },
  {
   "cell_type": "code",
   "execution_count": 3,
   "id": "7c9596f6-33aa-452c-950d-d804f0b6d81f",
   "metadata": {
    "tags": []
   },
   "outputs": [
    {
     "name": "stdout",
     "output_type": "stream",
     "text": [
      "There are many short stories for kids online that teach important lessons. Some are funny, like The Boy Who Cried Wolf, while others talk about being greedy. We found the best 20 stories that we and our children loved.\n"
     ]
    }
   ],
   "source": [
    "text = \"\"\"\n",
    "There is a wide selection of short moral stories for kids online. \n",
    "They range from the classics like The Boy Who Cried Wolf to somber ones talking about greed. \n",
    "We’ve scoured libraries for a wide variety of these classic stories to entertain and instill values in our children. \n",
    "We’re sharing the top 20 stories that we and our children enjoyed.\n",
    "\"\"\"\n",
    "\n",
    "prompt = f\"\"\"\n",
    "You task is to summarize the text below delimited by triple backticks.\n",
    "Summary should be suitable for kids to read it.\n",
    "Print output in maximum 50 words.\n",
    "\n",
    "texts: ```{text}```\n",
    "\"\"\"\n",
    "\n",
    "print(get_completion(prompt))"
   ]
  },
  {
   "cell_type": "code",
   "execution_count": 9,
   "id": "00193418-5aa1-4554-98ea-352d2a9e56c4",
   "metadata": {
    "tags": []
   },
   "outputs": [
    {
     "name": "stdout",
     "output_type": "stream",
     "text": [
      "The image shows a group of children playing in a snowy park. They are wearing warm clothes and having fun building a snowman. Some children are sledding down a hill, while others are throwing snowballs at each other. The park is covered in a thick layer of snow, and there are trees and houses in the background. It looks like a perfect winter day for outdoor activities and enjoying the beauty of nature.\n"
     ]
    }
   ],
   "source": [
    "image = 'https://www.globaltimes.cn/Portals/0/attachment/2018/2018-01-04/6dbbec0b-c418-4088-8ccd-bef1f1968ea1.jpg'\n",
    "prompt = f\"\"\"\n",
    "You task is to visit the below URL delimited by double square brackets to understand the image \\\n",
    "Summarize the image so that it can be explained to kids.\n",
    "\n",
    "Display image followed by summary of it in maximum 100 words.\n",
    "\n",
    "image URL: [[{image}]]\n",
    "\"\"\"\n",
    "\n",
    "print(get_completion(prompt))"
   ]
  },
  {
   "cell_type": "code",
   "execution_count": 10,
   "id": "0ed77545-1625-4441-8cd0-95216fdbff22",
   "metadata": {
    "tags": []
   },
   "outputs": [
    {
     "name": "stdout",
     "output_type": "stream",
     "text": [
      "Mahatma Gandhi, born on October 2, 1869, in Porbandar, Gujarat, India, was a prominent leader in the Indian independence movement against British rule. In his personal life, Gandhi was deeply influenced by his devout Hindu upbringing and his mother's teachings of non-violence and compassion. He married Kasturba Gandhi at the age of 13 and they had four sons together.\n",
      "\n",
      "Gandhi's achievements are numerous and impactful. He is best known for his philosophy of non-violent resistance, which he called Satyagraha. Through peaceful protests, strikes, and civil disobedience, Gandhi led the Indian National Congress in campaigns against discriminatory laws and policies imposed by the British government. His most notable achievement was leading the Salt March in 1930, where thousands of Indians walked over 240 miles to the Arabian Sea to protest the British monopoly on salt production.\n",
      "\n",
      "Gandhi's work with Subhas Chandra Bose, another prominent leader in the Indian independence movement, was significant. While they had differing ideologies, both shared the common goal of liberating India from British rule. Bose, known for his militant approach, formed the Forward Bloc within the Indian National Congress to advocate for complete independence. Although Gandhi and Bose had disagreements on certain strategies, they recognized the importance of unity in the fight for freedom.\n",
      "\n",
      "In conclusion, Mahatma Gandhi's personal life was shaped by his upbringing and his marriage to Kasturba Gandhi. His achievements include his philosophy of non-violent resistance and leading impactful campaigns like the Salt March. Despite differences, Gandhi and Bose worked together towards the common goal of Indian independence, highlighting the significance of unity in the face of adversity.\n"
     ]
    }
   ],
   "source": [
    "URL = 'https://en.wikipedia.org/wiki/Mahatma_Gandhi'\n",
    "prompt = f\"\"\"\n",
    "You task is to visit the below URL delimited by double square brackets to read about Gandhi and \\\n",
    "present the summary about him in minimum 100 and maximum 200 words.\n",
    "\n",
    "Follow below steps while presenting summary:\n",
    "\n",
    "Step 1: Write about Gandhi's personal life first.\n",
    "Step 2: Then mention about his achievments.\n",
    "Step 3: Later, focus on work done by Gandhi and Bose together.\n",
    "\n",
    "URL: [[{URL}]]\n",
    "\"\"\"\n",
    "\n",
    "print(get_completion(prompt))"
   ]
  },
  {
   "cell_type": "code",
   "execution_count": 12,
   "id": "afe73d87-b47b-4511-8c2c-272b8635d577",
   "metadata": {
    "tags": []
   },
   "outputs": [
    {
     "name": "stdout",
     "output_type": "stream",
     "text": [
      "Sure! Here's a Python code that uses the Flask framework to build a simple one-page web API that displays a welcome message, asks the user to input a PDF file, and returns the summary of the PDF file:\n",
      "\n",
      "```python\n",
      "from flask import Flask, request, jsonify\n",
      "from PyPDF2 import PdfFileReader\n",
      "\n",
      "app = Flask(__name__)\n",
      "\n",
      "@app.route('/', methods=['GET'])\n",
      "def welcome():\n",
      "    return 'Hello World'\n",
      "\n",
      "@app.route('/summary', methods=['POST'])\n",
      "def pdf_summary():\n",
      "    if 'file' not in request.files:\n",
      "        return 'No file uploaded', 400\n",
      "\n",
      "    file = request.files['file']\n",
      "    if file.filename == '':\n",
      "        return 'No file selected', 400\n",
      "\n",
      "    if file and file.filename.endswith('.pdf'):\n",
      "        pdf = PdfFileReader(file)\n",
      "        num_pages = pdf.getNumPages()\n",
      "        summary = f'This PDF contains {num_pages} pages.'\n",
      "        return jsonify({'summary': summary})\n",
      "\n",
      "    return 'Invalid file format. Only PDF files are allowed.', 400\n",
      "\n",
      "if __name__ == '__main__':\n",
      "    app.run(debug=True)\n",
      "```\n",
      "\n",
      "To run this code, make sure you have Flask and PyPDF2 installed. You can install them using pip:\n",
      "\n",
      "```\n",
      "pip install flask PyPDF2\n",
      "```\n",
      "\n",
      "Save the code in a file named `app.py` and run it using the following command:\n",
      "\n",
      "```\n",
      "python app.py\n",
      "```\n",
      "\n",
      "The API will be accessible at `http://localhost:5000`. You can use tools like Postman or cURL to test the API by sending a POST request to `http://localhost:5000/summary` with a PDF file attached. The API will return the summary of the PDF file in JSON format.\n"
     ]
    }
   ],
   "source": [
    "prompt = \"\"\"\n",
    "Write a python code to build a simple one page web api using flask framework. \\\n",
    "The API should contain following: \\\n",
    "\n",
    "1. The page shows 'Hello World' as welcome message \\\n",
    "2. It should ask the user to input a pdf file \\\n",
    "3. It should return the summary of pdf \\\n",
    "\"\"\"\n",
    "print(get_completion(prompt))"
   ]
  },
  {
   "cell_type": "markdown",
   "id": "77121db7-c557-460c-bff6-08d4a74fb0a6",
   "metadata": {},
   "source": [
    "### <mark> Labels in Named Entity Recognition:\n",
    "\n",
    "    Label\tDescription\tExample\n",
    "    \n",
    "    ADR\tStreet address\tWho lived at 221B Baker Street?\n",
    "    ANM\tAnimal\tFelix is an anthropomorphic black cat.\n",
    "    BLD\tBuilding\tWhile in London I attended a concert at the Royal Albert Hall.\n",
    "    COM\tCompany, business\tTesla Inc. sold 10% of its Bitcoin holdings.\n",
    "    DAT\tDate\tNapoleon died on May 5, 1821.\n",
    "    DEV\tDevice\tMy new Galaxy smartphone has seven cameras.\n",
    "    DOC\tDocument\tI appeal to the Geneva Convention!\n",
    "    EVN\tEvent\tFelice Gimondi won the Tour de France in 1965.\n",
    "    FDD\tFood, beverage\tFrank likes to drink Guinness beer.\n",
    "    GEA\tPhysical geographic feature\tI crossed the Mississipi river with my boat\n",
    "    GEO\tAdministrative geographic area\tAlaska is the least densely populated state in the United States.\n",
    "    GEX\tExtended geography\tThe astronauts have landed on Mars.\n",
    "    HOU\tHours\tThe eclipse reached its peak at 3pm.\n",
    "    LEN\tLegal entity\tOf course I pay the FICA tax.\n",
    "    MAI\tEmail address\tFor any questions do not hesitate to write to helpme@somedomain.com.\n",
    "    MEA\tMeasure\tThe chest is five feet wide and 40 inches tall.\n",
    "    MMD\tMass media\tI read it in the Guardian.\n",
    "    MON\tMoney\tI sold half of my stock and made six hundred thousand dollars.\n",
    "    NPH\tPerson\tHakeem Olajuwon dunked effortlessly.\n",
    "    NPR\tUnrecognized entity with a proper noun\tI like GYYYJJJ7 soooo much!\n",
    "    ORG\tOrganization, institution, society\tNow they threaten to quit the United Nations if they are not heard.\n",
    "    PCT\tPercentage\tThe richest 10% of adults in the world own 85% of global wealth.\n",
    "    PHO\tPhone number\tFor poor database design, call (214) 748-3647.\n",
    "    PPH\tPhysical phenomena\tThe COVID-19 infection is slowing down.\n",
    "    PRD\tProduct\tThe Rolex Daytona is an wonderful watch.\n",
    "    VCL\tVehicle\tA Ferrari 250 GTO was the most expensive car ever sold.\n",
    "    WEB\tWeb address\tFind the best technical documentation at docs.expert.ai.\n",
    "    WRK\tWork of human intelligence\tGrease is a funny musical romantic comedy."
   ]
  },
  {
   "cell_type": "markdown",
   "id": "a0a56246-c612-4f02-b1ce-3f419dd76deb",
   "metadata": {},
   "source": [
    "    Person\n",
    "    Address\n",
    "    Adminstrative Geography\n",
    "    Extended geography\n",
    "    Physical geography\n",
    "    Animal\n",
    "    Document\n",
    "    Food\n",
    "    Beverage\n",
    "    Time\n",
    "    Money/Currency\n",
    "    Phone number\n",
    "    Web address\n",
    "    Organization\n",
    "    Legal entity\n",
    "    Device \n",
    "    Date\n",
    "    Event\n",
    "    Building\n",
    "    Vehicle\n",
    "    Mass media\n",
    "    Measure"
   ]
  },
  {
   "cell_type": "code",
   "execution_count": null,
   "id": "44890d8a-86b8-4340-a682-01c5c0192459",
   "metadata": {},
   "outputs": [],
   "source": []
  }
 ],
 "metadata": {
  "kernelspec": {
   "display_name": "Python 3 (ipykernel)",
   "language": "python",
   "name": "python3"
  },
  "language_info": {
   "codemirror_mode": {
    "name": "ipython",
    "version": 3
   },
   "file_extension": ".py",
   "mimetype": "text/x-python",
   "name": "python",
   "nbconvert_exporter": "python",
   "pygments_lexer": "ipython3",
   "version": "3.11.4"
  }
 },
 "nbformat": 4,
 "nbformat_minor": 5
}
