{
 "cells": [
  {
   "cell_type": "markdown",
   "id": "df78d5fe-373e-4256-9fd9-db0dc94cabfa",
   "metadata": {},
   "source": [
    "Benefits:\n",
    "1. Privacy: data is not sent to third party\n",
    "2. No Cost: since using open source llms\n",
    "\n",
    "LLMs can be accessed across two dimensions:\n",
    "1. Base llms\n",
    "2. Fine tuned llms"
   ]
  },
  {
   "cell_type": "code",
   "execution_count": null,
   "id": "3b728d49-6fcd-4a7c-96d0-2428c0b70c01",
   "metadata": {},
   "outputs": [],
   "source": []
  },
  {
   "cell_type": "code",
   "execution_count": null,
   "id": "496aa87a-84fb-4bed-be2b-13ea82c310f7",
   "metadata": {},
   "outputs": [],
   "source": []
  },
  {
   "cell_type": "code",
   "execution_count": null,
   "id": "ef8362f4-7c7e-4444-948c-e5e5f8a7a64f",
   "metadata": {},
   "outputs": [],
   "source": []
  }
 ],
 "metadata": {
  "kernelspec": {
   "display_name": "Python 3 (ipykernel)",
   "language": "python",
   "name": "python3"
  },
  "language_info": {
   "codemirror_mode": {
    "name": "ipython",
    "version": 3
   },
   "file_extension": ".py",
   "mimetype": "text/x-python",
   "name": "python",
   "nbconvert_exporter": "python",
   "pygments_lexer": "ipython3",
   "version": "3.11.4"
  }
 },
 "nbformat": 4,
 "nbformat_minor": 5
}
