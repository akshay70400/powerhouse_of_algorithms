{
 "cells": [
  {
   "cell_type": "code",
   "execution_count": null,
   "id": "012fd58e-6115-4df9-b58d-5cae4568e5f3",
   "metadata": {},
   "outputs": [],
   "source": []
  },
  {
   "cell_type": "markdown",
   "id": "7c42a7c2-6ccd-4142-9b75-0aa6d238110f",
   "metadata": {},
   "source": [
    "# <mark> LlamaIndex\n",
    "\n",
    "LlamaIndex (formerly GPT Index) is a data framework for LLM applications to ingest, structure, and access private or domain-specific data.\n",
    "LlamaIndex provides the key tools to augment your LLM applications with data.\n",
    "\n",
    "    Data Ingestion\n",
    "    Connect your existing data sources and data formats (API's, PDF's, documents, SQL, etc.) to use with a large language model application.\n",
    "\n",
    "    Data Indexing\n",
    "    Store and index your data for different use cases. Integrate with downstream vector store and database providers.\n",
    "\n",
    "    Query Interface\n",
    "    LlamaIndex provides a query interface that accepts any input prompt over your data and returns a knowledge-augmented response.\n",
    "    \n",
    "Why LlamaIndex?\n",
    "    \n",
    "    At their core, LLMs offer a natural language interface between humans and inferred data. Widely available models come pre-trained on huge amounts of publicly available data, from Wikipedia and mailing lists to textbooks and source code. Applications built on top of LLMs often require augmenting these models with private or domain-specific data. Unfortunately, that data can be distributed across siloed applications and data stores. It’s behind APIs, in SQL databases, or trapped in PDFs and slide decks."
   ]
  },
  {
   "cell_type": "markdown",
   "id": "562e6108-2e4e-495d-869b-2e46ae2c55b8",
   "metadata": {},
   "source": [
    "## LlamaIndex provides the following tools:\n",
    "\n",
    "Data connectors ingest your existing data from their native source and format. These could be APIs, PDFs, SQL, and (much) more.\n",
    "\n",
    "Data indexes structure your data in intermediate representations that are easy and performant for LLMs to consume.\n",
    "\n",
    "Engines provide natural language access to your data. For example:\n",
    "\n",
    "Query engines are powerful retrieval interfaces for knowledge-augmented output.\n",
    "\n",
    "Chat engines are conversational interfaces for multi-message, “back and forth” interactions with your data.\n",
    "\n",
    "Data agents are LLM-powered knowledge workers augmented by tools, from simple helper functions to API integrations and more.\n",
    "\n",
    "Application integrations tie LlamaIndex back into the rest of your ecosystem. This could be LangChain, Flask, Docker, ChatGPT, or… anything else!"
   ]
  },
  {
   "cell_type": "code",
   "execution_count": null,
   "id": "1175702f-acb9-4e34-b307-03bd850256ba",
   "metadata": {},
   "outputs": [],
   "source": []
  },
  {
   "cell_type": "code",
   "execution_count": null,
   "id": "352a4907-9a16-44b8-90c6-d883a67ced98",
   "metadata": {},
   "outputs": [],
   "source": []
  },
  {
   "cell_type": "code",
   "execution_count": null,
   "id": "30cb9166-a76d-466f-8cc2-c0a4177a5468",
   "metadata": {},
   "outputs": [],
   "source": []
  }
 ],
 "metadata": {
  "kernelspec": {
   "display_name": "Python 3 (ipykernel)",
   "language": "python",
   "name": "python3"
  },
  "language_info": {
   "codemirror_mode": {
    "name": "ipython",
    "version": 3
   },
   "file_extension": ".py",
   "mimetype": "text/x-python",
   "name": "python",
   "nbconvert_exporter": "python",
   "pygments_lexer": "ipython3",
   "version": "3.11.4"
  }
 },
 "nbformat": 4,
 "nbformat_minor": 5
}
