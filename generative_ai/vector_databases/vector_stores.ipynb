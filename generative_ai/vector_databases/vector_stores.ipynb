{
 "cells": [
  {
   "cell_type": "markdown",
   "id": "67ecc5d9-7999-4ad6-8671-dc41b0c49067",
   "metadata": {},
   "source": [
    "# <mark> VectorStoreDB"
   ]
  },
  {
   "cell_type": "markdown",
   "id": "3eb38800-1970-4f04-95cd-8c848fc7e44f",
   "metadata": {},
   "source": [
    "    Tool\tScalability\tQuery Speed\tSearch Accuracy\tFlexibility\tPersistence\tStorage\n",
    "    \n",
    "    Chroma\tHigh\tHigh\tHigh\tHigh\tYes\tLocal/Cloud\n",
    "    Pinecone\tHigh\tHigh\tHigh\tHigh\tYes\tCloud\n",
    "    Faiss\tHigh\tHigh\tHigh\tMedium\tNo\tLocal/Cloud\n",
    "    LangChain \tHigh\tHigh\tHigh\tHigh\tYes\tLocal/Cloud\n",
    "    \n",
    "    Weaviate\tHigh\tHigh\tHigh\tHigh\tYes\tLocal/Cloud\n",
    "    DeepsetAI\tHigh\tHigh\tHigh\tHigh\tYes\tLocal/Cloud\n",
    "    Milvus\tHigh\tHigh\tHigh\tHigh\tYes\tLocal/Cloud\n",
    "    pgvector\tMedium\tMedium\tHigh\tHigh\tYes\tLocal\n",
    "    Supabase\tHigh\tHigh\tHigh\tHigh\tYes\tCloud\n",
    "    Qdrant\tHigh\tHigh\tHigh\tHigh\tYes\tLocal/Cloud\n",
    "    Vespa\tHigh\tHigh\tHigh\tHigh\tYes\tLocal/Cloud\n",
    "    DeepLake\tHigh\tHigh\tHigh\tHigh\tYes\tLocal/Cloud\n",
    "    Annoy\tMedium\tMedium\tMedium\tMedium\tNo\tLocal/Cloud\n",
    "    Elasticsearch\tHigh\tHigh\tHigh\tHigh\tYes\tLocal/Cloud\n",
    "    Hnswlib\tHigh\tHigh\tHigh\tHigh\tNo\tLocal/Cloud\n",
    "    NMSLIB\tHigh\tHigh\tHigh\tHigh\tNo\tLocal/Cloud"
   ]
  },
  {
   "cell_type": "markdown",
   "id": "357f10de-655a-48a9-b516-d1358700bf57",
   "metadata": {},
   "source": [
    "# <mark> ChromaDB"
   ]
  },
  {
   "cell_type": "markdown",
   "id": "5218276b-86f2-4056-b78e-d4c08e22897c",
   "metadata": {},
   "source": [
    "Chroma is an **open-source** vector database developed by Chroma.ai. It **focuses on scalability**, providing robust support for storing and **querying large-scale embedding datasets** efficiently. Chroma offers a **distributed architecture** with horizontal scalability, enabling it to handle massive volumes of vector data. It **leverages Apache Cassandra for high availability and fault tolerance**, ensuring data persistence and durability.\n",
    "\n",
    "One unique aspect of Chroma is its **flexible indexing system. It supports multiple indexing strategies**, such as approximate nearest neighbors (ANN) algorithms like HNSW and IVFPQ, **enabling fast and accurate similarity searches**. Chroma also provides comprehensive Python and RESTful APIs, making it easily integratable into NLP pipelines. With its emphasis on scalability and speed, Chroma is an excellent choice for applications that require high-performance vector storage and retrieval."
   ]
  },
  {
   "cell_type": "markdown",
   "id": "9b8fbc27-3698-4ed9-9d82-fb3b2d9acc00",
   "metadata": {},
   "source": [
    "Chroma, similar to Pinecone, is designed to handle vector storage and retrieval. It offers a robust set of features that cater to various use cases, making it a viable choice for many vector-based applications.\n",
    "\n",
    "Pros:\n",
    "1. OPEN SOURCE: providing users with the flexibility to modify and extend its functionalities to meet specific requirements.\n",
    "2. EXTENSIBLE QUERYING: Chroma allows more flexible querying capabilities, including complex range searches and combinations of vector attributes, making it suitable for a broader range of applications.\n",
    "3. COMMUNITY SUPPORT: Being open-source, Chroma benefits from a growing community of developers contributing.\n",
    "\n",
    "Cons:\n",
    "1. DEPLOYMENT COMPLEXITY: Setting up Chroma and managing it at scale might require more effort and expertise compared to a managed solution like Pinecone.\n",
    "2. PERFORMENCE CONSIDERATIONS: While Chroma is efficient for many use cases, it might not match Pinecone’s performance in certain high-throughput real-time scenarios."
   ]
  },
  {
   "cell_type": "markdown",
   "id": "8600d989-9826-44f3-ae15-a0ecce42e8c1",
   "metadata": {},
   "source": [
    "Using Chroma involves the following steps:\n",
    "\n",
    "1. Install and set up the Chroma server on your infrastructure or cloud platform of choice.\n",
    "2. Integrate the Chroma client into your application code, which typically involves using the REST API or SDKs provided by the community.\n",
    "3. Index your vectors in the Chroma database using the client or API.\n",
    "4. Execute queries using the appropriate syntax to retrieve vectors based on your application’s needs."
   ]
  },
  {
   "cell_type": "markdown",
   "id": "601ad564-df16-435a-83f2-387216702b5b",
   "metadata": {},
   "source": [
    "# <mark> PineCone"
   ]
  },
  {
   "cell_type": "markdown",
   "id": "63a0e3ec-1adc-4cc1-afea-22fd92f783b4",
   "metadata": {},
   "source": [
    "Pinecone is a managed vector database designed to handle real-time search and similarity matching at scale. It is built on state-of-the-art technology and has gained popularity for its ease of use and performance.\n",
    "\n",
    "Pros:\n",
    "1. FASTER REAL TIME SEARCH: offers faster real time search offering users to retrieve similar vectors in real time making it suitable for applications like reccomendation engine and content based searching\n",
    "2. SCALABILITY: Pine cone's architecture is designed to scale with growing data and traffic demands, making it an excellent choice for high throughput applications.\n",
    "3. Automatic indexing: Pinecone automatically indexes vectors, reducing burden on developers.\n",
    "4. Easy to use PythonSDK\n",
    "\n",
    "Cons:\n",
    "1. COST: as managed service, its pricing structure might be a concern for some users particularly for large scale deployments.\n",
    "2. LIMITED QUERYING FUNCTIONALITY: While Pinecone excels at similarity search, it might lack some advanced querying capabilities that certain projects require."
   ]
  },
  {
   "cell_type": "markdown",
   "id": "55a588b9-9603-42ae-857a-39cc91b1bebf",
   "metadata": {},
   "source": [
    "Pinecone is an excellent choice for real-time search and scalability, while Chroma’s open-source nature and flexible querying capabilities make it a versatile option for various applications."
   ]
  },
  {
   "cell_type": "markdown",
   "id": "80a28475-b13a-430d-8683-1622a7a97568",
   "metadata": {},
   "source": [
    "# <mark> FAISS"
   ]
  },
  {
   "cell_type": "markdown",
   "id": "1d47af5f-332f-40e9-a80a-3d82e640f046",
   "metadata": {},
   "source": [
    "by Meta"
   ]
  },
  {
   "cell_type": "raw",
   "id": "81dae35f-061a-4e60-b07c-ada5fc76f311",
   "metadata": {},
   "source": []
  }
 ],
 "metadata": {
  "kernelspec": {
   "display_name": "Python 3 (ipykernel)",
   "language": "python",
   "name": "python3"
  },
  "language_info": {
   "codemirror_mode": {
    "name": "ipython",
    "version": 3
   },
   "file_extension": ".py",
   "mimetype": "text/x-python",
   "name": "python",
   "nbconvert_exporter": "python",
   "pygments_lexer": "ipython3",
   "version": "3.11.4"
  }
 },
 "nbformat": 4,
 "nbformat_minor": 5
}
