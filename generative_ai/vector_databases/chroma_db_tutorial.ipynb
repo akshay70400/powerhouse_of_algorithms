{
 "cells": [
  {
   "cell_type": "markdown",
   "id": "6afa7cfa-b614-449e-b52d-e80d9d309811",
   "metadata": {},
   "source": []
  },
  {
   "cell_type": "markdown",
   "id": "bb789bb9-5eab-4b2c-8daf-e820844e4c13",
   "metadata": {},
   "source": [
    "## <mark> saving and getting from S3 bucket"
   ]
  },
  {
   "cell_type": "code",
   "execution_count": null,
   "id": "9f1cd4d5-071c-4741-b510-9bdeeea20fae",
   "metadata": {},
   "outputs": [],
   "source": [
    "import boto3\n",
    "\n",
    "from langchain.document_loaders import S3DirectoryLoader\n",
    "from langchain.vectorstores import Chroma\n",
    "from langchain.embeddings import OpenAIEmbeddings\n",
    "\n",
    "s3 = boto3.client('s3')\n",
    "\n",
    "# Specify the S3 bucket and directory path\n",
    "bucket_name = 'bucket_name'\n",
    "directory_key = 's3_path'\n",
    "\n",
    "# List objects with a delimiter to get only common prefixes (directories)\n",
    "response = s3.list_objects_v2(Bucket=bucket_name, Prefix=directory_path, Delimiter='/')\n",
    "\n",
    "# Extract the common prefixes (directories) from the response\n",
    "common_prefixes = response.get('CommonPrefixes', [])\n",
    "    \n",
    "# Print the directory names\n",
    "for prefix in common_prefixes:\n",
    "    print(prefix['Prefix'])"
   ]
  },
  {
   "cell_type": "code",
   "execution_count": null,
   "id": "b385738c-23e7-4704-bf03-84ef23801d11",
   "metadata": {},
   "outputs": [],
   "source": [
    "def create_chromadb_from_s3_docs():\n",
    "    # Load data from s3\n",
    "    docs = []\n",
    "    for key in s3.list_objects_v2(Bucket=bucket_name, Prefix=directory_path, Delimiter='/').get('CommonPrefixes', []):\n",
    "        loader = S3DirectoryLoader(bucket_name, key['Prefix'])\n",
    "        docs.extend(loader.load())    \n",
    "\n",
    "    # Split documents\n",
    "    text_splitter = RecursiveCharacterTextSplitter(chunk_size=500, chunk_overlap=50)\n",
    "    texts = text_splitter.split_documents(docs)\n",
    "\n",
    "    embeddings = OpenAIEmbeddings(openai_api_key=open_ai_secret)\n",
    "\n",
    "    db = Chroma.from_documents(\n",
    "        texts, embedding=embeddings\n",
    "    )\n",
    "    return db"
   ]
  },
  {
   "cell_type": "code",
   "execution_count": null,
   "id": "80211e4a-1d4b-4465-9aa2-860cce5df9ba",
   "metadata": {},
   "outputs": [],
   "source": [
    "def save_chromadb_to_s3():\n",
    "    # Save the vector store data to the S3 bucket\n",
    "    s3.Object(bucket_name, s3_filename).put(Body=db)"
   ]
  },
  {
   "cell_type": "code",
   "execution_count": null,
   "id": "93ed53f9-44bd-4c59-95ad-de4af4b6458e",
   "metadata": {},
   "outputs": [],
   "source": []
  },
  {
   "cell_type": "code",
   "execution_count": null,
   "id": "7b3d7695-a941-4417-9fca-dc5cc9a79caa",
   "metadata": {},
   "outputs": [],
   "source": []
  }
 ],
 "metadata": {
  "kernelspec": {
   "display_name": "Python 3 (ipykernel)",
   "language": "python",
   "name": "python3"
  },
  "language_info": {
   "codemirror_mode": {
    "name": "ipython",
    "version": 3
   },
   "file_extension": ".py",
   "mimetype": "text/x-python",
   "name": "python",
   "nbconvert_exporter": "python",
   "pygments_lexer": "ipython3",
   "version": "3.11.4"
  }
 },
 "nbformat": 4,
 "nbformat_minor": 5
}
