{
 "cells": [
  {
   "cell_type": "code",
   "execution_count": 1,
   "id": "c71bbcbd-7903-4cf2-bcb4-e82e67203eb8",
   "metadata": {
    "tags": []
   },
   "outputs": [],
   "source": [
    "import keras"
   ]
  },
  {
   "cell_type": "raw",
   "id": "157c6a53-6212-4530-9c49-4cdb24e36c27",
   "metadata": {},
   "source": [
    "Keras is a deep learning API written in Python, running on top of the machine learning platform TensorFlow. It was developed with a focus on enabling fast experimentation. \n",
    "\n",
    "TensorFlow 2 is an end-to-end, open-source machine learning platform. You can think of it as an infrastructure layer for differentiable programming. It combines four key abilities:\n",
    "\n",
    "Efficiently executing low-level tensor operations on CPU, GPU, or TPU.\n",
    "Computing the gradient of arbitrary differentiable expressions.\n",
    "Scaling computation to many devices, such as clusters of hundreds of GPUs.\n",
    "Exporting programs (\"graphs\") to external runtimes such as servers, browsers, mobile and embedded devices.\n",
    "Keras is the high-level API of the TensorFlow platform: an approachable, highly-productive interface for solving machine learning problems, with a focus on modern deep learning. It provides essential abstractions and building blocks for developing and shipping machine learning solutions with high iteration velocity.\n",
    "\n",
    "Keras empowers engineers and researchers to take full advantage of the scalability and cross-platform capabilities of the TensorFlow platform: you can run Keras on TPU or on large clusters of GPUs, and you can export your Keras models to run in the browser or on a mobile device.\n",
    "\n",
    "The core data structures of Keras are layers and models. The simplest type of model is the Sequential model, a linear stack of layers. For more complex architectures, you should use the Keras functional API, which allows to build arbitrary graphs of layers, or write models entirely from scratch via subclasssing."
   ]
  },
  {
   "cell_type": "code",
   "execution_count": null,
   "id": "c6779a7c-dffe-4bc8-8bd7-9e54a018de92",
   "metadata": {},
   "outputs": [],
   "source": [
    "# Elementary way to use keras\n",
    "\n",
    "from tensorflow.keras.layers import Dense\n",
    "from tensorflow.keras.models import Sequential\n",
    "from tensorflow.keras.optimizers import SGD\n",
    "\n",
    "model = Sequential()\n",
    "optimizer = SGD(learning_rate=0.01, momentum=0.9, nesterov=True)\n",
    "\n",
    "model.add(Dense(units=64, activation='relu'))\n",
    "model.add(Dense(units=10, activateion='softmax'))\n",
    "\n",
    "model.compile(loss='categorical_crossentropy',\n",
    "             optiizer='sgd',\n",
    "             optimizer=optmizer,\n",
    "             metrics=['accuracy'])\n",
    "\n",
    "model.fit(x_train, y_train, epoch=5, batch_size=32)\n",
    "\n",
    "loss_and_metrics = model.evaluate(x_test, y_test, batch_size=128)\n",
    "\n",
    "classes = model.predict(x_text, batch_size=128)"
   ]
  },
  {
   "cell_type": "markdown",
   "id": "96923351-774f-4325-bd45-59d6aab2a35a",
   "metadata": {},
   "source": [
    "# API reference\n",
    "\n",
    "    Models API\n",
    "        The Model class\n",
    "        The Sequential class\n",
    "        Model training APIs\n",
    "        Saving & serialization\n",
    "    Layers API\n",
    "        The base Layer class\n",
    "        Layer activations\n",
    "        Layer weight initializers\n",
    "        Layer weight regularizers\n",
    "        Layer weight constraints\n",
    "        Core layers\n",
    "        Convolution layers\n",
    "        Pooling layers\n",
    "        Recurrent layers\n",
    "        Preprocessing layers\n",
    "        Normalization layers\n",
    "        Regularization layers\n",
    "        Attention layers\n",
    "        Reshaping layers\n",
    "        Merging layers\n",
    "        Activation layers\n",
    "    Callbacks API\n",
    "        Base Callback class\n",
    "        ModelCheckpoint\n",
    "        BackupAndRestore\n",
    "        TensorBoard\n",
    "        EarlyStopping\n",
    "        LearningRateScheduler\n",
    "        ReduceLROnPlateau\n",
    "        RemoteMonitor\n",
    "        LambdaCallback\n",
    "        TerminateOnNaN\n",
    "        CSVLogger\n",
    "        ProgbarLogger\n",
    "    Optimizers\n",
    "        SGD\n",
    "        RMSprop\n",
    "        Adam\n",
    "        AdamW\n",
    "        Adadelta\n",
    "        Adagrad\n",
    "        Adamax\n",
    "        Adafactor\n",
    "        Nadam\n",
    "        Ftrl\n",
    "    Metrics\n",
    "        Accuracy metrics\n",
    "        Probabilistic metrics\n",
    "        Regression metrics\n",
    "        Classification metrics based on True/False positives & negatives\n",
    "        Image segmentation metrics\n",
    "        Hinge metrics for \"maximum-margin\" classification\n",
    "    Losses\n",
    "        Probabilistic losses\n",
    "        Regression losses\n",
    "        Hinge losses for \"maximum-margin\" classification\n",
    "    Data loading\n",
    "        Image data loading\n",
    "        Timeseries data loading\n",
    "        Text data loading\n",
    "        Audio data loading\n",
    "    Built-in small datasets\n",
    "        MNIST digits classification dataset\n",
    "        CIFAR10 small images classification dataset\n",
    "        CIFAR100 small images classification dataset\n",
    "        IMDB movie review sentiment classification dataset\n",
    "        Reuters newswire classification dataset\n",
    "        Fashion MNIST dataset, an alternative to MNIST\n",
    "        Boston Housing price regression dataset\n",
    "    Keras Applications\n",
    "        Xception\n",
    "        EfficientNet B0 to B7\n",
    "        EfficientNetV2 B0 to B3 and S, M, L\n",
    "        ConvNeXt Tiny, Small, Base, Large, XLarge\n",
    "        VGG16 and VGG19\n",
    "        ResNet and ResNetV2\n",
    "        MobileNet, MobileNetV2, and MobileNetV3\n",
    "        DenseNet\n",
    "        NasNetLarge and NasNetMobile\n",
    "        InceptionV3\n",
    "        InceptionResNetV2\n",
    "    Mixed precision\n",
    "        Mixed precision policy API\n",
    "        LossScaleOptimizer\n",
    "    Utilities\n",
    "        Model plotting utilities\n",
    "        Structured data preprocessing utilities\n",
    "        Python & NumPy utilities\n",
    "        Backend utilities\n",
    "    KerasTuner\n",
    "        HyperParameters\n",
    "        Tuners\n",
    "        Oracles\n",
    "        HyperModels\n",
    "        Errors\n",
    "    KerasCV\n",
    "        Layers\n",
    "        Models\n",
    "        Bounding box formats and utilities\n",
    "    KerasNLP\n",
    "        Models\n",
    "        Tokenizers\n",
    "        Preprocessing Layers\n",
    "        Modeling Layers\n",
    "        Samplers\n",
    "        Metrics"
   ]
  },
  {
   "cell_type": "markdown",
   "id": "e00d99f4-12de-41be-aff9-d7afb754cc78",
   "metadata": {},
   "source": [
    "# ModelsAPI"
   ]
  },
  {
   "cell_type": "code",
   "execution_count": null,
   "id": "4e110c7b-6f8f-40ef-aa59-2c977a1e27d7",
   "metadata": {},
   "outputs": [],
   "source": []
  },
  {
   "cell_type": "markdown",
   "id": "67fbe668-e901-4c83-a6bd-601f9f90f793",
   "metadata": {},
   "source": [
    "# Layers API"
   ]
  },
  {
   "cell_type": "code",
   "execution_count": null,
   "id": "a28c4af0-1311-4bcb-8830-9d8be515c022",
   "metadata": {},
   "outputs": [],
   "source": []
  },
  {
   "cell_type": "code",
   "execution_count": null,
   "id": "832fac57-44a1-4c36-a7a5-af2c7f581752",
   "metadata": {},
   "outputs": [],
   "source": []
  },
  {
   "cell_type": "markdown",
   "id": "f890e8d0-c43a-4d27-8866-29a5a3d3f07c",
   "metadata": {},
   "source": [
    "# Callbacks API"
   ]
  },
  {
   "cell_type": "code",
   "execution_count": null,
   "id": "fb1d9865-e168-4ed5-8912-735e56cfa12b",
   "metadata": {},
   "outputs": [],
   "source": []
  },
  {
   "cell_type": "markdown",
   "id": "a99fdf86-1e6a-4c95-afd8-085da75ca212",
   "metadata": {},
   "source": [
    "# Optimizers API"
   ]
  },
  {
   "cell_type": "code",
   "execution_count": null,
   "id": "5f2e4d8e-994f-4970-9e11-9335ffd5d1aa",
   "metadata": {},
   "outputs": [],
   "source": []
  },
  {
   "cell_type": "markdown",
   "id": "b8c2c089-9fb8-45e9-932a-d8cddd6fa08f",
   "metadata": {},
   "source": [
    "# Metrics API"
   ]
  },
  {
   "cell_type": "code",
   "execution_count": null,
   "id": "6ca7086d-06b6-4349-9142-e0f9a2d78903",
   "metadata": {},
   "outputs": [],
   "source": []
  },
  {
   "cell_type": "markdown",
   "id": "ffa6e161-8e45-45cc-8621-7d1a932879a4",
   "metadata": {},
   "source": [
    "# Losses API"
   ]
  },
  {
   "cell_type": "code",
   "execution_count": null,
   "id": "fc8c17e3-11a7-4e7e-b492-94e45ab78a16",
   "metadata": {},
   "outputs": [],
   "source": []
  },
  {
   "cell_type": "markdown",
   "id": "b315b681-9afe-4204-bae4-092cc733e343",
   "metadata": {},
   "source": [
    "# Data Loading API"
   ]
  },
  {
   "cell_type": "code",
   "execution_count": null,
   "id": "895e4b14-bca9-420b-86bb-dd0490b7ccb0",
   "metadata": {},
   "outputs": [],
   "source": []
  },
  {
   "cell_type": "markdown",
   "id": "b92f4394-42ef-40f3-a77e-d85058884802",
   "metadata": {},
   "source": [
    "# Keras Applications API"
   ]
  },
  {
   "cell_type": "code",
   "execution_count": null,
   "id": "c86da932-c1f1-41a4-9f92-d8eaa6e208b8",
   "metadata": {},
   "outputs": [],
   "source": []
  },
  {
   "cell_type": "markdown",
   "id": "e90b7f20-440c-4103-8e25-3320bfe84dfe",
   "metadata": {},
   "source": []
  },
  {
   "cell_type": "markdown",
   "id": "c582bd99-59cc-4983-b801-e0a7f59613b3",
   "metadata": {},
   "source": []
  },
  {
   "cell_type": "markdown",
   "id": "d7182b51-889c-4ea0-9270-35893e8788a1",
   "metadata": {},
   "source": []
  },
  {
   "cell_type": "markdown",
   "id": "6f5caf11-fb62-4383-a5d0-14c7e5be7a92",
   "metadata": {},
   "source": []
  }
 ],
 "metadata": {
  "kernelspec": {
   "display_name": "Python 3 (ipykernel)",
   "language": "python",
   "name": "python3"
  },
  "language_info": {
   "codemirror_mode": {
    "name": "ipython",
    "version": 3
   },
   "file_extension": ".py",
   "mimetype": "text/x-python",
   "name": "python",
   "nbconvert_exporter": "python",
   "pygments_lexer": "ipython3",
   "version": "3.11.4"
  }
 },
 "nbformat": 4,
 "nbformat_minor": 5
}
