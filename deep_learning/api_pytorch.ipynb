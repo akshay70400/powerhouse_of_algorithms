{
 "cells": [
  {
   "cell_type": "markdown",
   "id": "8666b7ce-0af2-421c-8819-69c7fbe011c6",
   "metadata": {
    "tags": []
   },
   "source": [
    "# General PyTorch and model I/O\n",
    "\n",
    "### loading pytorch\n",
    "\n",
    "    import torch\n",
    "\n",
    "### cuda\n",
    "\n",
    "    import torch.cuda as tCuda # various functions and settings\n",
    "    torch.backends.cudnn.deterministic = True # deterministic ML?\n",
    "    torch.backends.cudnn.benchmark = False # deterministic ML?\n",
    "    torch.cuda.is_available # check if cuda is is_available\n",
    "    tensor.cuda() # moving tensor to gpu\n",
    "    tensor.cpu() # moving tensor to cpu\n",
    "    tensor.to(device) # copy densor to device xyz\n",
    "    torch.device('cuda') # or 'cuda0', 'cuda1' if multiple devices\n",
    "    torch.device('cpu') # default\n",
    "\n",
    "### static computation graph/C++ export preparation\n",
    "\n",
    "    torch.jit.trace()\n",
    "    from torch.jit import script, trace\n",
    "    @script\n",
    "\n",
    "### load and save a model\n",
    "\n",
    "    torch.save(model, 'model_file')\n",
    "    model = torch.load('model_file')\n",
    "    model.eval() # set to inference\n",
    "    torch.save(model.state_dict(), 'model_file') # only state dict\n",
    "    model = ModelCalss()\n",
    "    model.load_state_dict(torch.load('model_file')\n",
    "\n",
    "### save to onnx\n",
    "\n",
    "    torch.onnx.export\n",
    "    torch.onnx.export_to_pretty_string\n",
    "\n",
    "### load onnx model\n",
    "\n",
    "    import onnx\n",
    "    model = onnx.load('model.onnx')\n"
   ]
  },
  {
   "cell_type": "markdown",
   "id": "481dcab8-eaae-417f-a6cf-9b5aef4edb94",
   "metadata": {},
   "source": []
  },
  {
   "cell_type": "markdown",
   "id": "5355d12b-c2f6-4008-85b2-c10b31b9b7a6",
   "metadata": {},
   "source": []
  },
  {
   "cell_type": "markdown",
   "id": "15ec6723-bffa-41df-9109-913c29edaa52",
   "metadata": {},
   "source": []
  },
  {
   "cell_type": "markdown",
   "id": "6c3933b9-9d9f-4e5e-8724-422087deabb5",
   "metadata": {},
   "source": []
  },
  {
   "cell_type": "markdown",
   "id": "ee15d0d1-087e-4c29-bfcc-cbf83ed6a92c",
   "metadata": {},
   "source": []
  },
  {
   "cell_type": "markdown",
   "id": "48bf5d88-1abc-4638-b124-8c84a7679efd",
   "metadata": {},
   "source": []
  },
  {
   "cell_type": "markdown",
   "id": "8610e85b-be50-4178-a1b0-0ab55ca40372",
   "metadata": {},
   "source": []
  },
  {
   "cell_type": "markdown",
   "id": "bf66cf93-2498-4f78-a0bb-0d9d6cadd3d8",
   "metadata": {},
   "source": []
  },
  {
   "cell_type": "markdown",
   "id": "7866ba38-bcf3-486a-b337-6a6fb01916c0",
   "metadata": {},
   "source": []
  },
  {
   "cell_type": "markdown",
   "id": "9c649a5c-cbfd-4272-aad9-6758661a5a84",
   "metadata": {},
   "source": []
  }
 ],
 "metadata": {
  "kernelspec": {
   "display_name": "Python 3 (ipykernel)",
   "language": "python",
   "name": "python3"
  },
  "language_info": {
   "codemirror_mode": {
    "name": "ipython",
    "version": 3
   },
   "file_extension": ".py",
   "mimetype": "text/x-python",
   "name": "python",
   "nbconvert_exporter": "python",
   "pygments_lexer": "ipython3",
   "version": "3.9.13"
  }
 },
 "nbformat": 4,
 "nbformat_minor": 5
}
